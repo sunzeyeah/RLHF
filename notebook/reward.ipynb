{
 "cells": [
  {
   "cell_type": "code",
   "execution_count": null,
   "id": "a7d1682d",
   "metadata": {},
   "outputs": [],
   "source": [
    "import sys\n",
    "sys.path.insert(0, \"/root/autodl-tmp/Code/RLHF\")\n",
    "sys.path.insert(0, \"/Users/zeyesun/Documents/Code/RLHF\")\n",
    "sys.path.insert(0, \"D:\\\\Code\\\\RLHF\")\n",
    "sys.path.insert(0, \"/mnt/sfevol775196/sunzeye273/Code/chatgpt\")\n",
    "sys.path.insert(0, \"/mnt/share-pa002-vol682688-prd/sunzeye273/Code/chatgpt\")\n",
    "sys.path.insert(0, \"/mnt/pa002-28359-vol543625-private/Code/chatgpt\")\n",
    "\n",
    "import os, time, re, random, glob, json, jieba, copy\n",
    "import numpy as np\n",
    "import pandas as pd\n",
    "from tqdm import tqdm\n",
    "import torch\n",
    "from transformers import (\n",
    "    AutoModelForCausalLM,\n",
    "    AutoModelForSeq2SeqLM,\n",
    "    AutoModelForMultipleChoice,\n",
    "    AutoTokenizer,\n",
    "    Trainer,\n",
    "    TrainingArguments,\n",
    "    default_data_collator,\n",
    "    TextGenerationPipeline\n",
    ")\n",
    "\n",
    "from src.models.reward import RewardModel\n",
    "\n",
    "device=\"cuda:0\" if torch.cuda.is_available() else \"cpu\"\n",
    "from sys import platform\n",
    "if platform == \"linux\" or platform == \"linux2\":\n",
    "    # linux\n",
    "    root = \"/mnt/sfevol775196/sunzeye273/Data\"\n",
    "#     root = \"/mnt/share-pa002-vol682688-prd/sunzeye273/Data\"\n",
    "#     root = \"/mnt/pa002-28359-vol543625-private/Data\"\n",
    "#     root = \"/root/autodl-tmp/Data\"\n",
    "elif platform == \"darwin\":\n",
    "    # OS X\n",
    "    root = \"/Users/zeyesun/Documents/Data\"\n",
    "elif platform == \"win32\":\n",
    "    # Windows...\n",
    "    root = \"D:\\\\Data\""
   ]
  },
  {
   "cell_type": "code",
   "execution_count": null,
   "id": "a67e7e4e",
   "metadata": {},
   "outputs": [],
   "source": [
    "from transformers import AutoConfig\n",
    "model_name = \"pangu-small\"\n",
    "model_name_or_path = os.path.join(root, \"models\", model_name)\n",
    "\n",
    "tokenizer = AutoTokenizer.from_pretrained(model_name_or_path, use_cache=False, trust_remote_code=True)\n",
    "config = AutoConfig.from_pretrained(model_name_or_path, trust_remote_code=True)\n",
    "model = AutoModelForCausalLM.from_config(config, trust_remote_code=True)\n",
    "f = os.path.join(model_name_or_path, \"pytorch_model.bin\")\n",
    "torch.save(model.state_dict(), f)\n",
    "\n",
    "model.config.lora_rank = 0\n",
    "reward_model = RewardModel(model.config, model.transformer, tokenizer)\n",
    "reward_checkpoint = os.path.join(root, \"chatgpt\", \"output\", \"reward\", model_name, \"pytorch_model.bin\")\n",
    "torch.save(reward_model.state_dict(), reward_checkpoint)"
   ]
  },
  {
   "cell_type": "code",
   "execution_count": null,
   "id": "078a3631",
   "metadata": {},
   "outputs": [],
   "source": [
    "# model_name = \"pangu-350M\"\n",
    "model_name = \"pangu-small\"\n",
    "# model_name = \"chatglm-6B\"\n",
    "model_name_or_path = os.path.join(root, \"models\", model_name)\n",
    "\n",
    "tokenizer = AutoTokenizer.from_pretrained(model_name_or_path, use_cache=False, trust_remote_code=True)\n",
    "print(tokenizer.special_tokens_map)\n",
    "print(tokenizer.all_special_ids)\n",
    "print(\n",
    "    f\"unk: {tokenizer.unk_token_id}\\n\",\n",
    "    f\"pad: {tokenizer.pad_token_id}\\n\",\n",
    "    f\"bos: {tokenizer.bos_token_id}\\n\",\n",
    "    f\"eos: {tokenizer.eos_token_id}\\n\",\n",
    "    f\"sep: {tokenizer.sep_token_id}\\n\",\n",
    "    f\"mask: {tokenizer.mask_token_id}\\n\",\n",
    "#     f\"eop: {tokenizer.eop_token_id}\\n\"\n",
    "#     f\"sop: {tokenizer.sop_token_id}\\n\"\n",
    "#     f\"cls: {tokenizer.cls_token_id}\"\n",
    ") "
   ]
  },
  {
   "cell_type": "code",
   "execution_count": null,
   "id": "417b6ada",
   "metadata": {},
   "outputs": [],
   "source": [
    "lora_rank = 0\n",
    "lora_alpha = 1\n",
    "lora_train_bias = \"none\""
   ]
  },
  {
   "cell_type": "code",
   "execution_count": null,
   "id": "753d0550",
   "metadata": {},
   "outputs": [],
   "source": [
    "if \"pangu\" in model_name_or_path:\n",
    "    model = AutoModelForCausalLM.from_pretrained(model_name_or_path, use_cache=False, trust_remote_code=True)\n",
    "    model.resize_token_embeddings(tokenizer.vocab_size)\n",
    "    model.config.lora_rank = lora_rank\n",
    "    model.config.lora_alpha = lora_alpha\n",
    "    model.config.lora_train_bias = lora_train_bias\n",
    "    # Initialize the reward model from the (supervised) fine-tuned SFT model\n",
    "    reward_model = RewardModel(model.config, model.transformer, tokenizer)\n",
    "elif \"chatglm\" in model_name_or_path:\n",
    "    model = AutoModelForSeq2SeqLM.from_pretrained(model_name_or_path, trust_remote_code=True).half()\n",
    "    model.config.lora_rank = lora_rank\n",
    "    model.config.lora_alpha = lora_alpha\n",
    "    model.config.lora_train_bias = lora_train_bias\n",
    "    # Initialize the reward model from the (supervised) fine-tuned SFT model\n",
    "    reward_model = RewardModel(model.config, model.transformer, tokenizer).half()\n",
    "    # reward_model = RewardModelWithLoRA(model.config, model.glm, tokenizer)\n",
    "#     layers = reward_model.transformer.layers\n",
    "elif \"glm\" in model_name_or_path:\n",
    "    model = AutoModelForSeq2SeqLM.from_pretrained(model_name_or_path, trust_remote_code=True)\n",
    "    model.config.lora_rank = lora_rank\n",
    "    model.config.lora_alpha = lora_alpha\n",
    "    model.config.lora_train_bias = lora_train_bias\n",
    "    # Initialize the reward model from the (supervised) fine-tuned SFT model\n",
    "    reward_model = RewardModel(model.config, model.glm, tokenizer)\n",
    "    # reward_model = RewardModelWithLoRA(model.config, model.glm, tokenizer)\n",
    "#     layers = reward_model.transformer.transformer.layers\n",
    "else:\n",
    "    raise ValueError(f\"Unsupported model name: {model_name_or_path}\")"
   ]
  },
  {
   "cell_type": "code",
   "execution_count": null,
   "id": "3b18dc5e",
   "metadata": {},
   "outputs": [],
   "source": [
    "# reward_checkpoint = os.path.join(root, \"chatgpt\", \"output\", \"reward\", model_name, \"checkpoint-200549\", \"pytorch_model*.bin\")\n",
    "reward_checkpoint = os.path.join(root, \"chatgpt\", \"output\", \"reward\", model_name, \"pytorch_model*.bin\")\n",
    "checkpoints = glob.glob(reward_checkpoint)\n",
    "st = dict()\n",
    "for checkpoint in checkpoints:\n",
    "    st.update(torch.load(checkpoint, map_location=\"cpu\"))\n",
    "reward_model.load_state_dict(st)"
   ]
  },
  {
   "cell_type": "code",
   "execution_count": null,
   "id": "800f59c3",
   "metadata": {},
   "outputs": [],
   "source": [
    "# reward_model = reward_model.half().to(device)\n",
    "reward_model = reward_model.to(device)"
   ]
  },
  {
   "cell_type": "markdown",
   "id": "a68f86ad",
   "metadata": {},
   "source": [
    "# Reward Model Train"
   ]
  },
  {
   "cell_type": "code",
   "execution_count": null,
   "id": "58669674",
   "metadata": {},
   "outputs": [],
   "source": [
    "from src.data.data import SFTDataset, PairwiseDataset\n",
    "from torch.utils.data import DataLoader, SequentialSampler\n",
    "class dotdict(dict):\n",
    "    __getattr__ = dict.get\n",
    "    __setattr__ = dict.__setitem__\n",
    "    __delattr__ = dict.__delitem__\n",
    "\n",
    "max_length = 128\n",
    "batch_size = 2\n",
    "args = dotdict({\"model_name_or_path\": model_name_or_path, \"max_length\": max_length})\n",
    "train_filename = os.path.join(root, \"chatgpt\", \"processed\", \"dev_data_external_v1.jsonl\")\n",
    "train_dataset = PairwiseDataset(args, train_filename, tokenizer)\n",
    "sampler = SequentialSampler(train_dataset)\n",
    "train_loader = DataLoader(train_dataset, batch_size=batch_size, sampler=sampler)"
   ]
  },
  {
   "cell_type": "code",
   "execution_count": null,
   "id": "bdab3a67",
   "metadata": {
    "scrolled": false
   },
   "outputs": [],
   "source": [
    "reward_model.train()\n",
    "for batch in train_loader:\n",
    "    print(batch.keys())\n",
    "    chosen_input_ids = batch['chosen_input_ids'].to(device)\n",
    "    chosen_attention_mask = batch['chosen_attention_mask'].to(device) if 'chosen_attention_mask' in batch else None\n",
    "    chosen_position_ids = batch['chosen_position_ids'].to(device) if 'chosen_position_ids' in batch else None\n",
    "    rejected_input_ids = batch['rejected_input_ids'].to(device)\n",
    "    rejected_attention_mask = batch['rejected_attention_mask'].to(device) if 'rejected_attention_mask' in batch else None\n",
    "    rejected_position_ids = batch['rejected_position_ids'].to(device) if 'rejected_position_ids' in batch else None\n",
    "    \n",
    "    chosen_values, chosen_reward = reward_model.reward(chosen_input_ids, chosen_attention_mask, chosen_position_ids)\n",
    "    reject_values, reject_reward = reward_model.reward(rejected_input_ids, rejected_attention_mask, rejected_position_ids)\n",
    "    break"
   ]
  },
  {
   "cell_type": "code",
   "execution_count": null,
   "id": "44da49d2",
   "metadata": {},
   "outputs": [],
   "source": [
    "chosen_end_scores = []\n",
    "rejected_end_scores = []\n",
    "bs = chosen_input_ids.shape[0]\n",
    "if len(chosen_input_ids.shape) == 3:\n",
    "    chosen_input_ids = chosen_input_ids.squeeze(1)\n",
    "if len(rejected_input_ids.shape) == 3:\n",
    "    rejected_input_ids = rejected_input_ids.squeeze(1)\n",
    "\n",
    "loss = 0\n",
    "inference = False\n",
    "for i in range(bs):\n",
    "    if torch.all(torch.eq(chosen_input_ids[i], rejected_input_ids[i])).item():\n",
    "        c_inds = (chosen_input_ids[i] == tokenizer.pad_token_id).nonzero()\n",
    "        c_ind = c_inds[0].item() if len(c_inds) > 0 else chosen_input_ids.shape[1]\n",
    "        chosen_end_scores.append(chosen_values[i, c_ind - 1])\n",
    "        inference = True\n",
    "        continue\n",
    "    print(f\"inference: {inference}\")\n",
    "\n",
    "    # Check if there is any padding otherwise take length of sequence\n",
    "    c_inds = (chosen_input_ids[i] == tokenizer.pad_token_id).nonzero()\n",
    "    c_ind = c_inds[0].item() if len(c_inds) > 0 else chosen_input_ids.shape[1]\n",
    "    r_inds = (rejected_input_ids[i] == tokenizer.pad_token_id).nonzero()\n",
    "    r_ind = r_inds[0].item() if len(r_inds) > 0 else rejected_input_ids.shape[1]\n",
    "    end_ind = max(c_ind, r_ind)\n",
    "\n",
    "    # Retrieve first index where trajectories diverge\n",
    "    divergence_ind = (chosen_input_ids[i] != rejected_input_ids[i]).nonzero()[0]\n",
    "    assert divergence_ind > 0\n",
    "\n",
    "    # Index into the correct rewards\n",
    "    c_truncated_reward = chosen_values[i][divergence_ind:end_ind]\n",
    "    r_truncated_reward = reject_values[i][divergence_ind:end_ind]\n",
    "\n",
    "    # Append the last rewards to the list of end scores\n",
    "    chosen_end_scores.append(c_truncated_reward[-1])\n",
    "    rejected_end_scores.append(r_truncated_reward[-1])\n",
    "\n",
    "    # Compute loss\n",
    "    loss += -torch.log(torch.sigmoid(c_truncated_reward - r_truncated_reward)).mean()\n",
    "\n",
    "    loss = loss / bs\n",
    "chosen_end_scores = torch.stack(chosen_end_scores)"
   ]
  },
  {
   "cell_type": "code",
   "execution_count": null,
   "id": "52095bab",
   "metadata": {},
   "outputs": [],
   "source": [
    "loss"
   ]
  },
  {
   "cell_type": "markdown",
   "id": "6b02e60d",
   "metadata": {},
   "source": [
    "# Reward Model Eval"
   ]
  },
  {
   "cell_type": "code",
   "execution_count": null,
   "id": "70abf467",
   "metadata": {},
   "outputs": [],
   "source": [
    "reward_model.eval()"
   ]
  },
  {
   "cell_type": "code",
   "execution_count": null,
   "id": "9f8b4d40",
   "metadata": {},
   "outputs": [],
   "source": [
    "max_length = 512\n",
    "tokenizer.padding_size = \"right\"\n",
    "# tokenizer.padding_size = \"left\"\n",
    "\n",
    "prompt = \"现代文:行三十五里,进入登封县境的耿店。\"\n",
    "prefix = \"古文:\"\n",
    "pred = \"<unk><unk><unk><unk><unk><unk><unk><unk><unk><unk>\"\n",
    "\n",
    "encodings_dict = tokenizer(prompt, prefix+pred, max_length=max_length,\n",
    "                           truncation=\"longest_first\", padding=\"max_length\", return_tensors=\"pt\",\n",
    "                           return_token_type_ids=False, padding_side=\"left\")\n",
    "print(encodings_dict.keys())\n",
    "print(encodings_dict['input_ids'].shape)\n",
    "print(encodings_dict['attention_mask'].shape)"
   ]
  },
  {
   "cell_type": "code",
   "execution_count": null,
   "id": "7d88344b",
   "metadata": {},
   "outputs": [],
   "source": [
    "input_ids = encodings_dict['input_ids'].to(device)\n",
    "attention_mask = encodings_dict['attention_mask'].to(device)\n",
    "res = reward_model(input_ids, attention_mask)"
   ]
  }
 ],
 "metadata": {
  "kernelspec": {
   "display_name": "Python 3 (ipykernel)",
   "language": "python",
   "name": "python3"
  },
  "language_info": {
   "codemirror_mode": {
    "name": "ipython",
    "version": 3
   },
   "file_extension": ".py",
   "mimetype": "text/x-python",
   "name": "python",
   "nbconvert_exporter": "python",
   "pygments_lexer": "ipython3",
   "version": "3.10.9"
  }
 },
 "nbformat": 4,
 "nbformat_minor": 5
}
