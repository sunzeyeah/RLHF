{
 "cells": [
  {
   "cell_type": "code",
   "execution_count": null,
   "id": "a7d1682d",
   "metadata": {},
   "outputs": [],
   "source": [
    "import sys\n",
    "sys.path.insert(0, \"/root/autodl-tmp/Code/RLHF\")\n",
    "sys.path.insert(0, \"/mnt/sfevol775196/sunzeye273/Code/RLHF\")\n",
    "sys.path.insert(0, \"/mnt/pa002-28359-vol543625-private/Code/RLHF\")\n",
    "sys.path.insert(0, \"//Users/zeyesun/Documents/Code/RLHF\")\n",
    "sys.path.insert(0, \"D:\\\\Code\\\\RLHF\")\n",
    "\n",
    "import os, time, re, random, glob, json, jieba, copy\n",
    "import numpy as np\n",
    "import pandas as pd\n",
    "from tqdm import tqdm\n",
    "import torch\n",
    "from transformers import (\n",
    "    AutoModelForCausalLM,\n",
    "    AutoModelForSeq2SeqLM,\n",
    "    AutoModelForMultipleChoice,\n",
    "    AutoTokenizer,\n",
    "    Trainer,\n",
    "    TrainingArguments,\n",
    "    default_data_collator,\n",
    "    TextGenerationPipeline\n",
    ")\n",
    "\n",
    "from src.models.reward import RewardModel, RewardModelWithLoRA\n",
    "\n",
    "device=\"cuda:0\" if torch.cuda.is_available() else \"cpu\"\n",
    "from sys import platform\n",
    "if platform == \"linux\" or platform == \"linux2\":\n",
    "    # linux\n",
    "    root = \"/mnt/sfevol775196/sunzeye273/Data\"\n",
    "#     root = \"/mnt/pa002-28359-vol543625-private/Data\"\n",
    "#     root = \"/root/autodl-tmp/Data\"\n",
    "elif platform == \"darwin\":\n",
    "    # OS X\n",
    "    root = \"/Users/zeyesun/Documents/Data\"\n",
    "elif platform == \"win32\":\n",
    "    # Windows...\n",
    "    root = \"D:\\\\Data\""
   ]
  },
  {
   "cell_type": "code",
   "execution_count": null,
   "id": "078a3631",
   "metadata": {},
   "outputs": [],
   "source": [
    "model_name = \"pangu-350M\"\n",
    "# model_name = \"glm-350M-chinese\"\n",
    "# model_name = \"chatglm-6B\"\n",
    "model_name_or_path = os.path.join(root, \"models\", model_name)\n",
    "\n",
    "tokenizer = AutoTokenizer.from_pretrained(model_name_or_path, use_cache=False, trust_remote_code=True)\n",
    "print(tokenizer.special_tokens_map)\n",
    "print(tokenizer.all_special_ids)\n",
    "print(\n",
    "    f\"unk: {tokenizer.unk_token_id}\\n\",\n",
    "    f\"pad: {tokenizer.pad_token_id}\\n\",\n",
    "    f\"bos: {tokenizer.bos_token_id}\\n\",\n",
    "    f\"eos: {tokenizer.eos_token_id}\\n\",\n",
    "    f\"sep: {tokenizer.sep_token_id}\\n\",\n",
    "    f\"mask: {tokenizer.mask_token_id}\\n\",\n",
    "#     f\"eop: {tokenizer.eop_token_id}\\n\"\n",
    "#     f\"sop: {tokenizer.sop_token_id}\\n\"\n",
    "#     f\"cls: {tokenizer.cls_token_id}\"\n",
    ") "
   ]
  },
  {
   "cell_type": "code",
   "execution_count": null,
   "id": "417b6ada",
   "metadata": {},
   "outputs": [],
   "source": [
    "lora_rank = 0\n",
    "lora_alpha = 1\n",
    "lora_train_bias = \"none\""
   ]
  },
  {
   "cell_type": "code",
   "execution_count": null,
   "id": "753d0550",
   "metadata": {},
   "outputs": [],
   "source": [
    "if \"pangu\" in model_name_or_path:\n",
    "    model = AutoModelForCausalLM.from_pretrained(model_name_or_path, use_cache=False, trust_remote_code=True)\n",
    "    model.resize_token_embeddings(tokenizer.vocab_size)\n",
    "    model.config.lora_rank = lora_rank\n",
    "    model.config.lora_alpha = lora_alpha\n",
    "    model.config.lora_train_bias = lora_train_bias\n",
    "    # Initialize the reward model from the (supervised) fine-tuned SFT model\n",
    "    reward_model = RewardModel(model.config, model.transformer, tokenizer)\n",
    "    # reward_model = RewardModelWithLoRA(model.config, model.transformer, tokenizer)\n",
    "elif \"glm\" in model_name_or_path:\n",
    "    model = AutoModelForSeq2SeqLM.from_pretrained(model_name_or_path, trust_remote_code=True)\n",
    "    if \"chatglm\" in model_name_or_path:\n",
    "        model = model.half()\n",
    "    model.config.lora_rank = lora_rank\n",
    "    model.config.lora_alpha = lora_alpha\n",
    "    model.config.lora_train_bias = lora_train_bias\n",
    "    # Initialize the reward model from the (supervised) fine-tuned SFT model\n",
    "    reward_model = RewardModel(model.config, model.glm, tokenizer)\n",
    "#     reward_model = RewardModelWithLoRA(model.config, model.glm, tokenizer)\n",
    "else:\n",
    "    raise ValueError(f\"Unsupported model name: {model_name_or_path}\")"
   ]
  },
  {
   "cell_type": "code",
   "execution_count": null,
   "id": "3b18dc5e",
   "metadata": {},
   "outputs": [],
   "source": [
    "reward_checkpoint = os.path.join(root, \"chatgpt\", \"output\", \"reward\", model_name, \"checkpoint-200549\", \"pytorch_model*.bin\")\n",
    "checkpoints = glob.glob(reward_checkpoint)\n",
    "st = dict()\n",
    "for checkpoint in checkpoints:\n",
    "    st.update(torch.load(checkpoint, map_location=\"cpu\"))\n",
    "res = reward_model.load_state_dict(st)"
   ]
  },
  {
   "cell_type": "markdown",
   "id": "6b02e60d",
   "metadata": {},
   "source": [
    "# Reward Model Eval"
   ]
  },
  {
   "cell_type": "code",
   "execution_count": null,
   "id": "70abf467",
   "metadata": {},
   "outputs": [],
   "source": [
    "reward_model.half()\n",
    "reward_model.eval()\n",
    "reward_model.to(device)\n",
    "print(\"\")"
   ]
  },
  {
   "cell_type": "code",
   "execution_count": null,
   "id": "9f8b4d40",
   "metadata": {},
   "outputs": [],
   "source": [
    "max_length = 512\n",
    "tokenizer.padding_size = \"right\"\n",
    "# tokenizer.padding_size = \"left\"\n",
    "\n",
    "prompt = \"现代文:行三十五里,进入登封县境的耿店。\"\n",
    "prefix = \"古文:\"\n",
    "pred = \"<unk><unk><unk><unk><unk><unk><unk><unk><unk><unk>\"\n",
    "\n",
    "encodings_dict = tokenizer(prompt, prefix+pred, max_length=max_length,\n",
    "                           truncation=\"longest_first\", padding=\"max_length\", return_tensors=\"pt\",\n",
    "                           return_token_type_ids=False, padding_side=\"left\")\n",
    "print(encodings_dict.keys())\n",
    "print(encodings_dict['input_ids'].shape)\n",
    "print(encodings_dict['attention_mask'].shape)"
   ]
  },
  {
   "cell_type": "code",
   "execution_count": null,
   "id": "7d88344b",
   "metadata": {},
   "outputs": [],
   "source": [
    "input_ids = encodings_dict['input_ids'].to(device)\n",
    "attention_mask = encodings_dict['attention_mask'].to(device)\n",
    "res = reward_model(input_ids, attention_mask)"
   ]
  }
 ],
 "metadata": {
  "kernelspec": {
   "display_name": "Python 3 (ipykernel)",
   "language": "python",
   "name": "python3"
  },
  "language_info": {
   "codemirror_mode": {
    "name": "ipython",
    "version": 3
   },
   "file_extension": ".py",
   "mimetype": "text/x-python",
   "name": "python",
   "nbconvert_exporter": "python",
   "pygments_lexer": "ipython3",
   "version": "3.10.9"
  }
 },
 "nbformat": 4,
 "nbformat_minor": 5
}
