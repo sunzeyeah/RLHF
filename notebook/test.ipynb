{
 "cells": [
  {
   "cell_type": "code",
   "execution_count": null,
   "id": "93c83ce9",
   "metadata": {},
   "outputs": [],
   "source": [
    "import os, time, re, random, glob, json, jieba, copy\n",
    "import numpy as np\n",
    "import pandas as pd\n",
    "from tqdm import tqdm\n",
    "import torch\n",
    "from transformers import (\n",
    "    AutoConfig,\n",
    "    AutoModelForCausalLM,\n",
    "    AutoModelForSeq2SeqLM,\n",
    "    AutoModelForMultipleChoice,\n",
    "    AutoTokenizer,\n",
    "    Trainer,\n",
    "    TrainingArguments,\n",
    "    default_data_collator\n",
    ")\n",
    "device=\"cuda:0\" if torch.cuda.is_available() else \"cpu\"\n",
    "from sys import platform\n",
    "if platform == \"linux\" or platform == \"linux2\":\n",
    "    # linux\n",
    "    root = \"/mnt/sfevol775196/sunzeye273/Data\"\n",
    "#     root = \"/mnt/share-pa002-vol682688-prd/sunzeye273/Data\"\n",
    "#     root = \"/mnt/pa002-28359-vol543625-private/Data\"\n",
    "#     root = \"/root/autodl-tmp/Data\"\n",
    "elif platform == \"darwin\":\n",
    "    # OS X\n",
    "    root = \"/Users/zeyesun/Documents/Data\"\n",
    "elif platform == \"win32\":\n",
    "    # Windows...\n",
    "    root = \"D:\\\\Data\""
   ]
  },
  {
   "cell_type": "code",
   "execution_count": null,
   "id": "3d6fdca2",
   "metadata": {},
   "outputs": [],
   "source": [
    "model_name = \"llama-7b\"\n",
    "# model_name = \"glm-350M-chinese\"\n",
    "# model_name = \"chatglm-6B\"\n",
    "model_name_or_path = os.path.join(root, \"models\", model_name)\n",
    "\n",
    "tokenizer = AutoTokenizer.from_pretrained(model_name_or_path, use_cache=False, trust_remote_code=True)\n",
    "print(tokenizer.special_tokens_map)\n",
    "print(tokenizer.all_special_ids)\n",
    "print(\n",
    "    f\"unk: {tokenizer.unk_token_id}\\n\",\n",
    "    f\"pad: {tokenizer.pad_token_id}\\n\",\n",
    "    f\"bos: {tokenizer.bos_token_id}\\n\",\n",
    "    f\"eos: {tokenizer.eos_token_id}\\n\",\n",
    "    f\"sep: {tokenizer.sep_token_id}\\n\",\n",
    "    f\"mask: {tokenizer.mask_token_id}\\n\",\n",
    "#     f\"eop: {tokenizer.eop_token_id}\\n\"\n",
    "#     f\"sop: {tokenizer.sop_token_id}\\n\"\n",
    "    f\"cls: {tokenizer.cls_token_id}\"\n",
    ") "
   ]
  },
  {
   "cell_type": "markdown",
   "id": "df9a2572",
   "metadata": {},
   "source": [
    "# LLaMa"
   ]
  },
  {
   "cell_type": "code",
   "execution_count": null,
   "id": "6ccd5025",
   "metadata": {},
   "outputs": [],
   "source": [
    "model_name = \"llama-small\"\n",
    "model_name_or_path = os.path.join(root, \"models\", model_name)\n",
    "# tokenizer = AutoTokenizer.from_pretrained(model_name_or_path, use_cache=False, trust_remote_code=True)\n",
    "config = AutoConfig.from_pretrained(model_name_or_path, trust_remote_code=True)\n",
    "model = AutoModelForCausalLM.from_config(config, trust_remote_code=True)"
   ]
  },
  {
   "cell_type": "code",
   "execution_count": null,
   "id": "d76f86cd",
   "metadata": {},
   "outputs": [],
   "source": [
    "f = os.path.join(model_name_or_path, \"pytorch_model.bin\")\n",
    "torch.save(model.state_dict(), f)"
   ]
  },
  {
   "cell_type": "code",
   "execution_count": null,
   "id": "5405693b",
   "metadata": {},
   "outputs": [],
   "source": [
    "prompt = \"你好 </s> 你是谁 </s> 你好 </s> 你是谁\"\n",
    "eos_ids = [0, 5, 12, 16, 22]\n",
    "max_length = 512\n",
    "input_embeds = torch.rand(1, dtype=torch.float16)\n",
    "# tokenizer.tokenize(prompt, add_special_tokens=False)\n",
    "inputs = tokenizer(prompt,  max_length=max_length, return_tensors=\"pt\", truncation=\"longest_first\", \n",
    "          return_attention_mask=True, return_token_type_ids=False)\n",
    "# print(inputs)\n",
    "tgt_len = len(inputs['input_ids'][0])\n",
    "print(f\"tgt_len: {tgt_len}\")\n",
    "combined_attention_mask = torch.full((tgt_len, tgt_len), torch.tensor(torch.finfo(input_embeds.dtype).min))\n",
    "# print(f\"shape: {combined_attention_mask.shape}, combined_attention_mask: {combined_attention_mask}\")\n",
    "for i in range(len(eos_ids)-1):\n",
    "    attention_mask = torch.ones((1, eos_ids[i+1]-eos_ids[i]), dtype=torch.long)\n",
    "#     print(f\"{i}, shape: {attention_mask.shape}, attention_mask: {attention_mask}\")\n",
    "    attention_mask = _prepare_decoder_attention_mask(attention_mask, attention_mask.shape, \n",
    "                                    input_embeds, 0)\n",
    "    combined_attention_mask[eos_ids[i]:eos_ids[i+1], eos_ids[i]:eos_ids[i+1]] = attention_mask\n",
    "#     print(f\"{i}-th, shape: {attention_mask.shape}, attention_mask: {attention_mask}\")\n",
    "#     break\n",
    "# print(f\"shape: {combined_attention_mask.shape}, combined_attention_mask: {combined_attention_mask}\")"
   ]
  },
  {
   "cell_type": "code",
   "execution_count": null,
   "id": "317fe60a",
   "metadata": {},
   "outputs": [],
   "source": [
    "def _make_causal_mask(\n",
    "    input_ids_shape, dtype, device, past_key_values_length = 0\n",
    "):\n",
    "    \"\"\"\n",
    "    Make causal mask used for bi-directional self-attention.\n",
    "    \"\"\"\n",
    "    bsz, tgt_len = input_ids_shape\n",
    "    mask = torch.full((tgt_len, tgt_len), torch.tensor(torch.finfo(dtype).min, device=device), device=device)\n",
    "    mask_cond = torch.arange(mask.size(-1), device=device)\n",
    "    mask.masked_fill_(mask_cond < (mask_cond + 1).view(mask.size(-1), 1), 0)\n",
    "    mask = mask.to(dtype)\n",
    "\n",
    "    if past_key_values_length > 0:\n",
    "        mask = torch.cat([torch.zeros(tgt_len, past_key_values_length, dtype=dtype, device=device), mask], dim=-1)\n",
    "    return mask[None, None, :, :].expand(bsz, 1, tgt_len, tgt_len + past_key_values_length)\n",
    "\n",
    "\n",
    "# Copied from transformers.models.bart.modeling_bart._expand_mask\n",
    "def _expand_mask(mask, dtype, tgt_len):\n",
    "    \"\"\"\n",
    "    Expands attention_mask from `[bsz, seq_len]` to `[bsz, 1, tgt_seq_len, src_seq_len]`.\n",
    "    \"\"\"\n",
    "    bsz, src_len = mask.size()\n",
    "    tgt_len = tgt_len if tgt_len is not None else src_len\n",
    "\n",
    "    expanded_mask = mask[:, None, None, :].expand(bsz, 1, tgt_len, src_len).to(dtype)\n",
    "\n",
    "    inverted_mask = 1.0 - expanded_mask\n",
    "\n",
    "    return inverted_mask.masked_fill(inverted_mask.to(torch.bool), torch.finfo(dtype).min)\n",
    "\n",
    "def _prepare_decoder_attention_mask(attention_mask, input_shape, inputs_embeds, past_key_values_length):\n",
    "        # create causal mask\n",
    "        # [bsz, seq_len] -> [bsz, 1, tgt_seq_len, src_seq_len]\n",
    "        combined_attention_mask = None\n",
    "        if input_shape[-1] > 1:\n",
    "            combined_attention_mask = _make_causal_mask(\n",
    "                input_shape,\n",
    "                inputs_embeds.dtype,\n",
    "                device=inputs_embeds.device,\n",
    "                past_key_values_length=past_key_values_length,\n",
    "            )\n",
    "\n",
    "        if attention_mask is not None:\n",
    "            # [bsz, seq_len] -> [bsz, 1, tgt_seq_len, src_seq_len]\n",
    "            expanded_attn_mask = _expand_mask(attention_mask, inputs_embeds.dtype, tgt_len=input_shape[-1]).to(\n",
    "                inputs_embeds.device\n",
    "            )\n",
    "            combined_attention_mask = (\n",
    "                expanded_attn_mask if combined_attention_mask is None else expanded_attn_mask + combined_attention_mask\n",
    "            )\n",
    "\n",
    "        return combined_attention_mask"
   ]
  },
  {
   "cell_type": "markdown",
   "id": "f589231f",
   "metadata": {},
   "source": [
    "# GLM"
   ]
  },
  {
   "cell_type": "code",
   "execution_count": null,
   "id": "a7268832",
   "metadata": {},
   "outputs": [],
   "source": [
    "prompt = \"你好\"\n",
    "prefix = \"答:\"\n",
    "max_length = 128\n",
    "encoded_prompt = tokenizer(prompt, prefix + tokenizer.mask_token)\n",
    "prompt_length = len(encoded_prompt['input_ids'])\n",
    "encoded_dict = tokenizer(prompt, prefix + tokenizer.mask_token,\n",
    "                         max_length=min(prompt_length, max_length),\n",
    "                         truncation=\"only_first\",\n",
    "                         return_tensors=\"pt\",\n",
    "                         return_token_type_ids=False)\n",
    "max_gen_length = max_length - encoded_dict['input_ids'].shape[1]\n",
    "inputs = tokenizer.build_inputs_for_generation(encoded_dict, max_gen_length=max_gen_length, padding=True)"
   ]
  },
  {
   "cell_type": "code",
   "execution_count": null,
   "id": "a1fc75f2",
   "metadata": {},
   "outputs": [],
   "source": [
    "inputs"
   ]
  },
  {
   "cell_type": "code",
   "execution_count": null,
   "id": "bfd9e66a",
   "metadata": {},
   "outputs": [],
   "source": [
    "batch_size, seq_length = encoded_dict['input_ids'].shape[:2]\n",
    "attention_mask1 = encoded_dict['attention_mask']\n",
    "attention_mask2 = attention_mask1.unsqueeze(1).expand(-1, seq_length + max_gen_length, -1)\n",
    "generation_attention_mask = torch.cat([attention_mask2.new_zeros((seq_length, max_gen_length)),\n",
    "                                       torch.tril(attention_mask2.new_ones((max_gen_length, max_gen_length)))],\n",
    "                                      dim=0).unsqueeze(0).expand(batch_size, -1, -1)\n",
    "attention_mask3 = torch.cat((attention_mask2, generation_attention_mask), dim=2)\n",
    "attention_mask4 = attention_mask3.unsqueeze(1)"
   ]
  },
  {
   "cell_type": "code",
   "execution_count": null,
   "id": "5b629712",
   "metadata": {},
   "outputs": [],
   "source": [
    "print(attention_mask1.shape)\n",
    "print(attention_mask1)"
   ]
  },
  {
   "cell_type": "code",
   "execution_count": null,
   "id": "6fd9341e",
   "metadata": {},
   "outputs": [],
   "source": [
    "print(attention_mask2.shape)\n",
    "# print(attention_mask2)"
   ]
  },
  {
   "cell_type": "code",
   "execution_count": null,
   "id": "c9f75428",
   "metadata": {},
   "outputs": [],
   "source": [
    "print(attention_mask3.shape)\n",
    "print(attention_mask3)"
   ]
  },
  {
   "cell_type": "code",
   "execution_count": null,
   "id": "4b600887",
   "metadata": {},
   "outputs": [],
   "source": [
    "print(attention_mask4.shape)\n",
    "print(attention_mask4)"
   ]
  },
  {
   "cell_type": "markdown",
   "id": "7e028572",
   "metadata": {},
   "source": [
    "# ChatGLM"
   ]
  },
  {
   "cell_type": "code",
   "execution_count": null,
   "id": "c25ba334",
   "metadata": {},
   "outputs": [],
   "source": [
    "model_name_or_path = os.path.join(root, \"models\", \"chatglm-6B\")\n",
    "# model = AutoModel.from_pretrained(model_name_or_path, trust_remote_code=True)\n",
    "model = AutoModelForSeq2SeqLM.from_pretrained(model_name_or_path, trust_remote_code=True)\n",
    "# model = model.half().to(device)"
   ]
  },
  {
   "cell_type": "code",
   "execution_count": null,
   "id": "cc68c1cc",
   "metadata": {},
   "outputs": [],
   "source": [
    "texts = [\n",
    "    \"你好\",\n",
    "    \"晚上睡不着应该怎么办\"\n",
    "]\n",
    "history = []\n",
    "for text in texts:\n",
    "    response, history = model.chat(tokenizer, text, history=history)\n",
    "    print(f\"问: {text}\\n答:{response}\\n\")"
   ]
  },
  {
   "cell_type": "code",
   "execution_count": null,
   "id": "b4ccfa2b",
   "metadata": {},
   "outputs": [],
   "source": [
    "max_length = 512\n",
    "prompt = \"晚上睡不着应该怎么办\"\n",
    "label = \"吃褪黑素\"\n",
    "encoded_dict = tokenizer(prompt, label,\n",
    "                         max_length=max_length, return_tensors=\"pt\",\n",
    "                         truncation=\"longest_first\", padding=\"max_length\", return_token_type_ids=False)\n",
    "print(encoded_dict.keys())\n",
    "print(encoded_dict['input_ids'].shape)\n",
    "print(encoded_dict['input_ids'][0, :50])"
   ]
  },
  {
   "cell_type": "code",
   "execution_count": null,
   "id": "50baebfc",
   "metadata": {},
   "outputs": [],
   "source": [
    "ids = [ 94747, 103400,  84213,  86846, 150001, 150004,  20005,  84020, 110857,\n",
    "         84248,  84886,  20003]\n",
    "print([tokenizer._convert_id_to_token(i) for i in ids])"
   ]
  },
  {
   "cell_type": "code",
   "execution_count": null,
   "id": "f9104b06",
   "metadata": {},
   "outputs": [],
   "source": [
    "input_ids = encoded_dict['input_ids']\n",
    "print(input_ids[0, :20])\n",
    "seqs = input_ids.tolist()\n",
    "mask_positions = [seq.index(tokenizer.gmask_token_id) for seq in seqs]\n",
    "gmask = True"
   ]
  },
  {
   "cell_type": "code",
   "execution_count": null,
   "id": "b7b577cc",
   "metadata": {},
   "outputs": [],
   "source": [
    "batch_size, seq_length = input_ids.shape\n",
    "context_lengths = [seq.tolist().index(tokenizer.bos_token_id) for seq in input_ids]\n",
    "attention_mask = torch.ones((batch_size, seq_length, seq_length), device=device)\n",
    "attention_mask.tril_()\n",
    "for i, context_length in enumerate(context_lengths):\n",
    "    attention_mask[i, :, :context_length] = 1\n",
    "attention_mask.unsqueeze_(1)\n",
    "# attention_mask = (attention_mask < 0.5).bool()\n",
    "print(attention_mask.shape)\n",
    "print(attention_mask[0, :20, :20])\n",
    "batch_size, seq_length = input_ids.shape\n",
    "context_lengths = [seq.tolist().index(tokenizer.bos_token_id) for seq in input_ids]\n",
    "# if self.position_encoding_2d:\n",
    "position_ids = torch.arange(seq_length, dtype=torch.long, device=device).expand(batch_size, seq_length)\n",
    "if not gmask:\n",
    "    for i, context_length in enumerate(context_lengths):\n",
    "        position_ids[i, context_length:] = mask_positions[i]\n",
    "block_position_ids = [torch.cat((\n",
    "    torch.zeros(context_length, dtype=torch.long, device=device),\n",
    "    torch.arange(seq_length - context_length, dtype=torch.long, device=device) + 1\n",
    ")) for context_length in context_lengths]\n",
    "block_position_ids = torch.stack(block_position_ids, dim=0)\n",
    "position_ids = torch.stack((position_ids, block_position_ids), dim=1)\n",
    "# else:\n",
    "#     position_ids = torch.arange(seq_length, dtype=torch.long, device=device).expand(batch_size, seq_length)\n",
    "#     if not gmask:\n",
    "#         for i, context_length in enumerate(context_lengths):\n",
    "#             position_ids[context_length:] = mask_positions[i]\n",
    "print(position_ids.shape)\n",
    "print(position_ids[0, :, :20])"
   ]
  },
  {
   "cell_type": "code",
   "execution_count": null,
   "id": "d91e23d9",
   "metadata": {},
   "outputs": [],
   "source": [
    "print(tokenizer.tokenize(prompt))\n",
    "print(tokenizer(prompt))"
   ]
  },
  {
   "cell_type": "code",
   "execution_count": null,
   "id": "e5d10f8c",
   "metadata": {},
   "outputs": [],
   "source": [
    "encoded_prompt = tokenizer(prompt)\n",
    "prompt_length = len(encoded_prompt['input_ids'])\n",
    "inputs = tokenizer(prompt, max_length=min(prompt_length, max_length), truncation=\"only_first\",\n",
    "                   return_tensors=\"pt\")\n",
    "inputs = inputs.to(device)"
   ]
  },
  {
   "cell_type": "code",
   "execution_count": null,
   "id": "d6cd0dfa",
   "metadata": {},
   "outputs": [],
   "source": [
    "max_length_generation = 50\n",
    "num_return_sequences = 1\n",
    "top_p = 0.8\n",
    "temperature = 1.0\n",
    "outputs = model.generate(**inputs, max_new_tokens=max_length_generation,\n",
    "                         eos_token_id=tokenizer.eop_token_id,\n",
    "                         pad_token_id=tokenizer.pad_token_id,\n",
    "                         do_sample=False,\n",
    "                         num_return_sequences=num_return_sequences,\n",
    "                         top_p=top_p,\n",
    "                         temperature=temperature)"
   ]
  },
  {
   "cell_type": "markdown",
   "id": "6f13279f",
   "metadata": {},
   "source": [
    "# DeepSpeed"
   ]
  },
  {
   "cell_type": "markdown",
   "id": "7798b57b",
   "metadata": {},
   "source": [
    "### estimate the memory needs for params, optim states and gradients"
   ]
  },
  {
   "cell_type": "code",
   "execution_count": null,
   "id": "07493af2",
   "metadata": {},
   "outputs": [],
   "source": [
    "# stage 1 and 2\n",
    "from deepspeed.runtime.zero.stage_1_and_2 import estimate_zero2_model_states_mem_needs_all_live\n",
    "estimate_zero2_model_states_mem_needs_all_live(model, num_gpus_per_node=3, num_nodes=1)"
   ]
  },
  {
   "cell_type": "code",
   "execution_count": null,
   "id": "4cb3b908",
   "metadata": {},
   "outputs": [],
   "source": [
    "# stage 3\n",
    "from deepspeed.runtime.zero.stage3 import estimate_zero3_model_states_mem_needs_all_live\n",
    "estimate_zero3_model_states_mem_needs_all_live(model, num_gpus_per_node=3, num_nodes=1)"
   ]
  },
  {
   "cell_type": "markdown",
   "id": "e9aa232d",
   "metadata": {},
   "source": [
    "# Split torch checkpoint into multiple checkpoints"
   ]
  },
  {
   "cell_type": "code",
   "execution_count": null,
   "id": "705292a3",
   "metadata": {},
   "outputs": [],
   "source": [
    "checkpoint = os.path.join(root, \"chatgpt\", \"output\", \"sft\", \"pangu-2.6B\", \"checkpoint-42782\")\n",
    "if \"glm\" in model_name_or_path:\n",
    "    model = AutoModelForSeq2SeqLM.from_pretrained(checkpoint, trust_remote_code=True)\n",
    "else:\n",
    "    model = AutoModelForCausalLM.from_pretrained(checkpoint, trust_remote_code=True, use_cache=False)\n",
    "st = model.state_dict()"
   ]
  },
  {
   "cell_type": "code",
   "execution_count": null,
   "id": "e6d5ee32",
   "metadata": {},
   "outputs": [],
   "source": [
    "import sys\n",
    "print(sys.getsizeof(st))\n",
    "keys = list(st.keys())\n",
    "n = 10\n",
    "m = {\"metadata\": {\"total_size\":sys.getsizeof(st)}, \"weight_map\":dict()}\n",
    "span = len(keys) // n\n",
    "for i in range(n):\n",
    "    fn = f\"pytorch_model-{i+1}-of-{n}.bin\"\n",
    "    f = os.path.join(checkpoint, fn)\n",
    "    stt = dict()\n",
    "    for key in keys[i*span:(i+1)*span]:\n",
    "        stt[key] = st[key]\n",
    "        m[\"weight_map\"][key] = fn\n",
    "    torch.save(stt, f)\n",
    "f = os.path.join(checkpoint, \"pytorch_model.bin.index.json\")\n",
    "json.dump(m, open(f, \"w\", encoding=\"utf-8\"), ensure_ascii=False)"
   ]
  }
 ],
 "metadata": {
  "kernelspec": {
   "display_name": "Python 3 (ipykernel)",
   "language": "python",
   "name": "python3"
  },
  "language_info": {
   "codemirror_mode": {
    "name": "ipython",
    "version": 3
   },
   "file_extension": ".py",
   "mimetype": "text/x-python",
   "name": "python",
   "nbconvert_exporter": "python",
   "pygments_lexer": "ipython3",
   "version": "3.10.9"
  }
 },
 "nbformat": 4,
 "nbformat_minor": 5
}
